{
 "cells": [
  {
   "cell_type": "code",
   "execution_count": 1,
   "metadata": {
    "editable": true,
    "slideshow": {
     "slide_type": ""
    },
    "tags": [
     "remove-cell"
    ]
   },
   "outputs": [],
   "source": [
    "%matplotlib inline\n",
    "%config InlineBackend.figure_format = \"retina\""
   ]
  },
  {
   "cell_type": "markdown",
   "metadata": {
    "editable": true,
    "slideshow": {
     "slide_type": "slide"
    },
    "tags": []
   },
   "source": [
    "# Neural networks"
   ]
  },
  {
   "cell_type": "markdown",
   "metadata": {},
   "source": [
    ":::{warning} Under construction\n",
    "This notebook comprises various text and code snippets for generating plots and other content for the lectures corresponding to this topic.  It is *not* a coherent set of lecture notes.  Students currently enrolled in the CCNY EAS 42000/A4200 course should refer to the lecture slides made available to them.\n",
    ":::"
   ]
  },
  {
   "cell_type": "markdown",
   "metadata": {
    "editable": true,
    "slideshow": {
     "slide_type": ""
    },
    "tags": []
   },
   "source": [
    "## Intro"
   ]
  },
  {
   "cell_type": "markdown",
   "metadata": {
    "editable": true,
    "slideshow": {
     "slide_type": ""
    },
    "tags": []
   },
   "source": [
    "You've probably heard of *machine learning* at this point in the semester, and you've almost certaintly heard of *artificial intelligence* at this point in your lives as I'm writing this in 2025.  This chapter will provide a more thorough explanation of what these things are and introduce one single but important machine learning technique, *neural networks*."
   ]
  },
  {
   "cell_type": "markdown",
   "metadata": {
    "editable": true,
    "slideshow": {
     "slide_type": ""
    },
    "tags": []
   },
   "source": [
    "## What is \"Machine Learning\"?"
   ]
  },
  {
   "cell_type": "markdown",
   "metadata": {},
   "source": [
    "### An example of *not* an ML technique: linear regression\n",
    "It helps to start by recalling linear regression, which is *not* a ML technique.  \n",
    "\n",
    "In linear regression, we posit a simple, linear relationship between two datasets, and there is a simple analytical expression (i.e. equation) that we can derive and subsequently use to create our model.  \n",
    "\n",
    "It is easy, cheap, and simple.\n",
    "\n",
    "Moreover, so many relationships between two variables are in fact linear.\n",
    "\n",
    "Or, if not truly linear, close enough to linear that approximating them as linear is very useful.\n",
    "\n",
    "These are the reasons why linear regression is so ubiquitous and fundamental, and why it was our starting place for formally assessing the relationships between two variables.\n",
    "\n",
    ":::{note}\n",
    "But as always, never go straight to linear regression...start with descriptive statistics and exploratory data visualization!  \n",
    "\n",
    "Like any statistical method, linear regression makes several key assumptions about the underlying data.\n",
    "\n",
    "Those assumptions can be violated!  For example, your data may be malformed, with spurious values that need to be cleaned first.\n",
    "\n",
    "Or perhaps the data is \"clean\" but nonetheless violates one or more of linear regression's underlying assumptions.\n",
    "\n",
    "In that case the *interpretation* of the linear regression results will need to be modified accordingly.  \n",
    "\n",
    "You won't be able to think carefully about this if you just go straight to linear regression: the correlation coefficient and regression slope by themselves don't directly tell you about bad values or outliers or e.g. non-Gaussian distributions.\n",
    "\n",
    "But this is a *very common* mistake: many times I have computed a correlation coefficient and/or regression slope and then tried to use them, only to later go back to the underlying data and realize they were very different than I had been assuming!\n",
    ":::\n",
    "\n",
    "### Where linear regression fails\n",
    "\n",
    ":::{admonition}Q: What's one case for which linear regression can fail?\n",
    ":class: dropdown\n",
    "For relationships that are, well, *not* linear!\n",
    ":::\n",
    "\n",
    "Easy, cheap, simple.  Those are good things!\n",
    "\n",
    "But when the relationship among variables two or more variables is sufficiently nonlinear, sometimes it's worth it to switch to more complicated techniques, ones that are more difficult to implement, more computationally expensive, and more complicated conceptually.\n",
    "\n",
    "There are a huge number of such techniques that still aren't truly *machine learning*, at least as we're defining it in this class (which we'll do very soon).\n",
    "\n",
    "These are more advanced statistical models.\n",
    "\n",
    "Arguably, it would make sense to progress to those more traditional models next.\n",
    "\n",
    "But the fact is that ML has become *incredibly* popular in both the academic and non-academic realms.\n",
    "\n",
    "So, in this one-semester introductory course on statistical methods, it feels worth it to give you some initial exposure to ML.  Your future job prospects may well depend on it!\n",
    "\n",
    "### Enter machine learning\n",
    "\n",
    "The key distinction between ML and non-ML statistical models is in *what assumptions each makes about the underlying relationship between the datasets in question*.\n",
    "\n",
    "In linear regression and other traditional statistical models, we *assume* a particular relationship.\n",
    "\n",
    "For example, in *linear* regression, we assume a *linear* relationship.\n",
    "\n",
    "And then we *fit* the model with that relationship baked in to the data.\n",
    "\n",
    "In ML, by contrast (as we are using the term in this course), there are *no prior assumptions* about the relationship(s).\n",
    "\n",
    "Instead, we setup an *algorithm* that causes a computer---the *machine* in machine learning---to *learn* any relationships itself.\n",
    "\n",
    "Hence, *machine learning*.\n",
    "\n",
    "### Pros and cons\n",
    "\n"
   ]
  },
  {
   "cell_type": "markdown",
   "metadata": {},
   "source": [
    "## Neural networks"
   ]
  },
  {
   "cell_type": "markdown",
   "metadata": {},
   "source": [
    "## A neural network to predict the season of the Central Park data"
   ]
  },
  {
   "cell_type": "markdown",
   "metadata": {
    "editable": true,
    "slideshow": {
     "slide_type": ""
    },
    "tags": []
   },
   "source": [
    "Let's load the Central Park dataset and configure the plotting aesthetics:"
   ]
  },
  {
   "cell_type": "code",
   "execution_count": 2,
   "metadata": {
    "editable": true,
    "slideshow": {
     "slide_type": ""
    },
    "tags": []
   },
   "outputs": [],
   "source": [
    "import xarray as xr\n",
    "\n",
    "filepath_in = \"../data/central-park-station-data_1869-01-01_2023-09-30.nc\"\n",
    "ds_central_park = xr.open_dataset(filepath_in)\n",
    "precip_central_park = ds_central_park[\"precip\"]\n",
    "temp_central_park = ds_central_park[\"temp_avg\"]"
   ]
  },
  {
   "cell_type": "markdown",
   "metadata": {
    "editable": true,
    "slideshow": {
     "slide_type": ""
    },
    "tags": []
   },
   "source": [
    "## Supplementary Materials"
   ]
  }
 ],
 "metadata": {
  "kernelspec": {
   "display_name": "Python 3 (ipykernel)",
   "language": "python",
   "name": "python3"
  },
  "language_info": {
   "codemirror_mode": {
    "name": "ipython",
    "version": 3
   },
   "file_extension": ".py",
   "mimetype": "text/x-python",
   "name": "python",
   "nbconvert_exporter": "python",
   "pygments_lexer": "ipython3",
   "version": "3.13.5"
  },
  "toc": {
   "base_numbering": 1,
   "nav_menu": {},
   "number_sections": true,
   "sideBar": true,
   "skip_h1_title": false,
   "title_cell": "Table of Contents",
   "title_sidebar": "Contents",
   "toc_cell": false,
   "toc_position": {
    "height": "calc(100% - 180px)",
    "left": "10px",
    "top": "150px",
    "width": "203.797px"
   },
   "toc_section_display": true,
   "toc_window_display": true
  },
  "varInspector": {
   "cols": {
    "lenName": 16,
    "lenType": 16,
    "lenVar": 40
   },
   "kernels_config": {
    "python": {
     "delete_cmd_postfix": "",
     "delete_cmd_prefix": "del ",
     "library": "var_list.py",
     "varRefreshCmd": "print(var_dic_list())"
    },
    "r": {
     "delete_cmd_postfix": ") ",
     "delete_cmd_prefix": "rm(",
     "library": "var_list.r",
     "varRefreshCmd": "cat(var_dic_list()) "
    }
   },
   "types_to_exclude": [
    "module",
    "function",
    "builtin_function_or_method",
    "instance",
    "_Feature"
   ],
   "window_display": false
  }
 },
 "nbformat": 4,
 "nbformat_minor": 4
}
